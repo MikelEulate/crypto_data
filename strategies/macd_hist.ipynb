
{
 "cells": [
  {
   "cell_type": "code",
   "execution_count": 5,
   "metadata": {},
   "outputs": [
    {
     "name": "stdout",
     "output_type": "stream",
     "text": [
      "Index(['open', 'high', 'low', 'close', 'volume', 'close_time',\n",
      "       'quote_asset_volume', 'number_of_trades', 'taker_buy_base_asset_volume',\n",
      "       'taker_buy_quote_asset_volume', 'ignored'],\n",
      "      dtype='object')\n"
     ]
    }
   ],
   "source": [
    "## MACD-Hist Divergence Trading Strategy \n",
    "\n",
    "import pandas as pd \n",
    "import numpy as np \n",
    "import matplotlib.pyplot as plt\n",
    "from matplotlib import style\n",
    "\n",
    "style.use('ggplot')\n",
    "\n",
    "df = pd.read_csv('../data/df_ETH-2017-01-01-2018-10-08-FREQ-1h.csv', index_col= 0)\n",
    "\n",
    "\n",
    "print(df.columns)\n",
    "\n"
   ]
  },
  {
   "cell_type": "code",
   "execution_count": 6,
   "metadata": {},
   "outputs": [
    {
     "data": {
      "text/html": [
       "<div>\n",
       "<style scoped>\n",
       "    .dataframe tbody tr th:only-of-type {\n",
       "        vertical-align: middle;\n",
       "    }\n",
       "\n",
       "    .dataframe tbody tr th {\n",
       "        vertical-align: top;\n",
       "    }\n",
       "\n",
       "    .dataframe thead th {\n",
       "        text-align: right;\n",
       "    }\n",
       "</style>\n",
       "<table border=\"1\" class=\"dataframe\">\n",
       "  <thead>\n",
       "    <tr style=\"text-align: right;\">\n",
       "      <th></th>\n",
       "      <th>open</th>\n",
       "      <th>high</th>\n",
       "      <th>low</th>\n",
       "      <th>close</th>\n",
       "      <th>volume</th>\n",
       "      <th>close_time</th>\n",
       "      <th>quote_asset_volume</th>\n",
       "      <th>number_of_trades</th>\n",
       "      <th>taker_buy_base_asset_volume</th>\n",
       "      <th>taker_buy_quote_asset_volume</th>\n",
       "      <th>ignored</th>\n",
       "    </tr>\n",
       "    <tr>\n",
       "      <th>open_time</th>\n",
       "      <th></th>\n",
       "      <th></th>\n",
       "      <th></th>\n",
       "      <th></th>\n",
       "      <th></th>\n",
       "      <th></th>\n",
       "      <th></th>\n",
       "      <th></th>\n",
       "      <th></th>\n",
       "      <th></th>\n",
       "      <th></th>\n",
       "    </tr>\n",
       "  </thead>\n",
       "  <tbody>\n",
       "    <tr>\n",
       "      <th>2017-08-17 04:00:00</th>\n",
       "      <td>301.13</td>\n",
       "      <td>302.57</td>\n",
       "      <td>298.0</td>\n",
       "      <td>301.61</td>\n",
       "      <td>125.66877</td>\n",
       "      <td>2017-08-17 04:59:59</td>\n",
       "      <td>37684.804181</td>\n",
       "      <td>129</td>\n",
       "      <td>80.56377</td>\n",
       "      <td>24193.440789</td>\n",
       "      <td>47039.706757</td>\n",
       "    </tr>\n",
       "    <tr>\n",
       "      <th>2017-08-17 05:00:00</th>\n",
       "      <td>301.61</td>\n",
       "      <td>303.28</td>\n",
       "      <td>300.0</td>\n",
       "      <td>303.10</td>\n",
       "      <td>377.67246</td>\n",
       "      <td>2017-08-17 05:59:59</td>\n",
       "      <td>114043.282676</td>\n",
       "      <td>202</td>\n",
       "      <td>328.10428</td>\n",
       "      <td>99079.803569</td>\n",
       "      <td>47250.805175</td>\n",
       "    </tr>\n",
       "    <tr>\n",
       "      <th>2017-08-17 06:00:00</th>\n",
       "      <td>302.40</td>\n",
       "      <td>304.44</td>\n",
       "      <td>301.9</td>\n",
       "      <td>302.68</td>\n",
       "      <td>303.86672</td>\n",
       "      <td>2017-08-17 06:59:59</td>\n",
       "      <td>92034.441294</td>\n",
       "      <td>182</td>\n",
       "      <td>259.28668</td>\n",
       "      <td>78525.948613</td>\n",
       "      <td>47176.444584</td>\n",
       "    </tr>\n",
       "    <tr>\n",
       "      <th>2017-08-17 07:00:00</th>\n",
       "      <td>302.68</td>\n",
       "      <td>307.96</td>\n",
       "      <td>302.6</td>\n",
       "      <td>307.96</td>\n",
       "      <td>754.74510</td>\n",
       "      <td>2017-08-17 07:59:59</td>\n",
       "      <td>229725.136967</td>\n",
       "      <td>198</td>\n",
       "      <td>592.43176</td>\n",
       "      <td>180297.966961</td>\n",
       "      <td>46884.543391</td>\n",
       "    </tr>\n",
       "    <tr>\n",
       "      <th>2017-08-17 08:00:00</th>\n",
       "      <td>307.95</td>\n",
       "      <td>309.97</td>\n",
       "      <td>307.0</td>\n",
       "      <td>308.62</td>\n",
       "      <td>150.75029</td>\n",
       "      <td>2017-08-17 08:59:59</td>\n",
       "      <td>46559.462371</td>\n",
       "      <td>182</td>\n",
       "      <td>140.68470</td>\n",
       "      <td>43451.495398</td>\n",
       "      <td>46771.057342</td>\n",
       "    </tr>\n",
       "  </tbody>\n",
       "</table>\n",
       "</div>"
      ],
      "text/plain": [
       "                       open    high    low   close     volume  \\\n",
       "open_time                                                       \n",
       "2017-08-17 04:00:00  301.13  302.57  298.0  301.61  125.66877   \n",
       "2017-08-17 05:00:00  301.61  303.28  300.0  303.10  377.67246   \n",
       "2017-08-17 06:00:00  302.40  304.44  301.9  302.68  303.86672   \n",
       "2017-08-17 07:00:00  302.68  307.96  302.6  307.96  754.74510   \n",
       "2017-08-17 08:00:00  307.95  309.97  307.0  308.62  150.75029   \n",
       "\n",
       "                              close_time  quote_asset_volume  \\\n",
       "open_time                                                      \n",
       "2017-08-17 04:00:00  2017-08-17 04:59:59        37684.804181   \n",
       "2017-08-17 05:00:00  2017-08-17 05:59:59       114043.282676   \n",
       "2017-08-17 06:00:00  2017-08-17 06:59:59        92034.441294   \n",
       "2017-08-17 07:00:00  2017-08-17 07:59:59       229725.136967   \n",
       "2017-08-17 08:00:00  2017-08-17 08:59:59        46559.462371   \n",
       "\n",
       "                     number_of_trades  taker_buy_base_asset_volume  \\\n",
       "open_time                                                            \n",
       "2017-08-17 04:00:00               129                     80.56377   \n",
       "2017-08-17 05:00:00               202                    328.10428   \n",
       "2017-08-17 06:00:00               182                    259.28668   \n",
       "2017-08-17 07:00:00               198                    592.43176   \n",
       "2017-08-17 08:00:00               182                    140.68470   \n",
       "\n",
       "                     taker_buy_quote_asset_volume       ignored  \n",
       "open_time                                                        \n",
       "2017-08-17 04:00:00                  24193.440789  47039.706757  \n",
       "2017-08-17 05:00:00                  99079.803569  47250.805175  \n",
       "2017-08-17 06:00:00                  78525.948613  47176.444584  \n",
       "2017-08-17 07:00:00                 180297.966961  46884.543391  \n",
       "2017-08-17 08:00:00                  43451.495398  46771.057342  "
      ]
     },
     "execution_count": 6,
     "metadata": {},
     "output_type": "execute_result"
    }
   ],
   "source": [
    "df.head()"
   ]
  },
  {
   "cell_type": "code",
   "execution_count": 7,
   "metadata": {},
   "outputs": [],
   "source": [
    "df = df[['open', 'high', 'low', 'close', 'volume']]"
   ]
  },
  {
   "cell_type": "code",
   "execution_count": 8,
   "metadata": {},
   "outputs": [
    {
     "data": {
      "text/html": [
       "<div>\n",
       "<style scoped>\n",
       "    .dataframe tbody tr th:only-of-type {\n",
       "        vertical-align: middle;\n",
       "    }\n",
       "\n",
       "    .dataframe tbody tr th {\n",
       "        vertical-align: top;\n",
       "    }\n",
       "\n",
       "    .dataframe thead th {\n",
       "        text-align: right;\n",
       "    }\n",
       "</style>\n",
       "<table border=\"1\" class=\"dataframe\">\n",
       "  <thead>\n",
       "    <tr style=\"text-align: right;\">\n",
       "      <th></th>\n",
       "      <th>open</th>\n",
       "      <th>high</th>\n",
       "      <th>low</th>\n",
       "      <th>close</th>\n",
       "      <th>volume</th>\n",
       "    </tr>\n",
       "    <tr>\n",
       "      <th>open_time</th>\n",
       "      <th></th>\n",
       "      <th></th>\n",
       "      <th></th>\n",
       "      <th></th>\n",
       "      <th></th>\n",
       "    </tr>\n",
       "  </thead>\n",
       "  <tbody>\n",
       "    <tr>\n",
       "      <th>2017-08-17 04:00:00</th>\n",
       "      <td>301.13</td>\n",
       "      <td>302.57</td>\n",
       "      <td>298.0</td>\n",
       "      <td>301.61</td>\n",
       "      <td>125.66877</td>\n",
       "    </tr>\n",
       "    <tr>\n",
       "      <th>2017-08-17 05:00:00</th>\n",
       "      <td>301.61</td>\n",
       "      <td>303.28</td>\n",
       "      <td>300.0</td>\n",
       "      <td>303.10</td>\n",
       "      <td>377.67246</td>\n",
       "    </tr>\n",
       "    <tr>\n",
       "      <th>2017-08-17 06:00:00</th>\n",
       "      <td>302.40</td>\n",
       "      <td>304.44</td>\n",
       "      <td>301.9</td>\n",
       "      <td>302.68</td>\n",
       "      <td>303.86672</td>\n",
       "    </tr>\n",
       "    <tr>\n",
       "      <th>2017-08-17 07:00:00</th>\n",
       "      <td>302.68</td>\n",
       "      <td>307.96</td>\n",
       "      <td>302.6</td>\n",
       "      <td>307.96</td>\n",
       "      <td>754.74510</td>\n",
       "    </tr>\n",
       "    <tr>\n",
       "      <th>2017-08-17 08:00:00</th>\n",
       "      <td>307.95</td>\n",
       "      <td>309.97</td>\n",
       "      <td>307.0</td>\n",
       "      <td>308.62</td>\n",
       "      <td>150.75029</td>\n",
       "    </tr>\n",
       "  </tbody>\n",
       "</table>\n",
       "</div>"
      ],
      "text/plain": [
       "                       open    high    low   close     volume\n",
       "open_time                                                    \n",
       "2017-08-17 04:00:00  301.13  302.57  298.0  301.61  125.66877\n",
       "2017-08-17 05:00:00  301.61  303.28  300.0  303.10  377.67246\n",
       "2017-08-17 06:00:00  302.40  304.44  301.9  302.68  303.86672\n",
       "2017-08-17 07:00:00  302.68  307.96  302.6  307.96  754.74510\n",
       "2017-08-17 08:00:00  307.95  309.97  307.0  308.62  150.75029"
      ]
     },
     "execution_count": 8,
     "metadata": {},
     "output_type": "execute_result"
    }
   ],
   "source": [
    "df.head()"
   ]
  },
  {
   "cell_type": "code",
   "execution_count": 4,
   "metadata": {},
   "outputs": [],
   "source": [
    "## Trying the MACD-hist strategy"
   ]
  },
  {
   "cell_type": "code",
   "execution_count": 9,
   "metadata": {},
   "outputs": [
    {
     "data": {
      "text/plain": [
       "<matplotlib.axes._subplots.AxesSubplot at 0x7f136521f5f8>"
      ]
     },
     "execution_count": 9,
     "metadata": {},
     "output_type": "execute_result"
    },
    {
     "data": {
      "image/png": "[encoded data removed]",
      "text/plain": [
       "<Figure size 432x288 with 1 Axes>"
      ]
     },
     "metadata": {},
     "output_type": "display_data"
    }
   ],
   "source": [
    "df.close.plot()"
   ]
  },
  {
   "cell_type": "code",
   "execution_count": 10,
   "metadata": {},
   "outputs": [],
   "source": [
    "def EMA(values, window):\n",
    "    \"\"\" Numpy implementation of EMA\n",
    "    \"\"\"\n",
    "    weights = np.exp(np.linspace(-1., 0., window))\n",
    "    weights /= weights.sum()\n",
    "    a =  np.convolve(values, weights, mode='full')[:len(values)]\n",
    "    a[:window] = a[window]\n",
    "    return a\n",
    "    \n",
    "def MACD(x, nslow=26, nfast=12):\n",
    "    emaslow = EMA(x, nslow)\n",
    "    emafast = EMA(x, nfast)\n",
    "    macd = emafast - emaslow\n",
    "    signal = EMA(macd, 9)\n",
    "    hist = macd - signal\n",
    "    return macd, signal,hist"
   ]
  },
  {
   "cell_type": "code",
   "execution_count": 11,
   "metadata": {},
   "outputs": [],
   "source": [
    "df['macd'], df['signal'], df['hist'] = MACD(df.close)"
   ]
  },
  {
   "cell_type": "code",
   "execution_count": 12,
   "metadata": {},
   "outputs": [
    {
     "data": {
      "text/plain": [
       "<matplotlib.axes._subplots.AxesSubplot at 0x7f1362ff05c0>"
      ]
     },
     "execution_count": 12,
     "metadata": {},
     "output_type": "execute_result"
    },
    {
     "data": {
      "image/png": "[encoded data removed]",
      "text/plain": [
       "<Figure size 432x288 with 1 Axes>"
      ]
     },
     "metadata": {},
     "output_type": "display_data"
    }
   ],
   "source": [
    "df['hist'].plot()"
   ]
  },
  {
   "cell_type": "code",
   "execution_count": null,
   "metadata": {},
   "outputs": [],
   "source": [
    "import pandas_datareader as datareader\n",
    "import matplotlib.pyplot as plt\n",
    "import datetime\n",
    "\n",
    "# -------------------------------------------------------------\n",
    "# Definition for MACD as follows: \n",
    "# MACD Line = 12-day EMA - 26-day EMA\n",
    "# Signal Line = 9-day EMA of MACD Line\n",
    "# MACD Histogram = MACD Line - Signal Line\n",
    "#\n",
    "# EMA: Exponential Moving Average; various definitions exist\n",
    "# -------------------------------------------------------------\n",
    "\n",
    "# returns time_series for macd line\n",
    "def macd(time_series, slow_period=26, fast_period=12):\n",
    "    emaslow = time_series.ewm(span=slow_period, adjust=False).mean()\n",
    "    emafast = time_series.ewm(span=fast_period, adjust=False).mean()    \n",
    "    return emafast, emaslow, emafast - emaslow\n",
    "\n",
    "\n",
    "# set up MACD parameters\n",
    "slow_period = 26\n",
    "fast_period = 12\n",
    "signal_period = 9\n",
    "\n",
    "# compute the MACD datapoints\n",
    "emaslow, emafast, macd_line = macd(df['close'], slow_period, fast_period)\n",
    "signal_line = macd_line.ewm(span=signal_period, adjust=False).mean()\n",
    "\n",
    "# draw the MACD lines and histogram\n",
    "f1, ax1 = plt.subplots(figsize = (8,4))\n",
    "ax1.plot(df.index, df['close'], color = 'black', lw=2, label='close')\n",
    "ax1.plot(df.index, emaslow, color ='blue', lw=1, label='EMA(26)')\n",
    "ax1.plot(df.index, emafast, color ='red', lw=1, label='EMA(12)')\n",
    "\n",
    "f2, ax2 = plt.subplots(figsize = (8,4))\n",
    "ax2.plot(df.index, macd_line, color='green', lw=1,label='MACD Line(26,12)')\n",
    "ax2.plot(df.index, signal_line, color='purple', lw=1, label='Signal Line(9)')\n",
    "\n",
    "# set other parameters\n",
    "ax1.legend(loc='upper right')\n",
    "ax1.set(title = 'Starbucks Stock Price', ylabel = 'Price')\n",
    "ax2.fill_between(df.index, macd_line - signal_line, color = 'gray', alpha=0.5, label='MACD Histogram')\n",
    "ax2.set(title = 'MACD(26,12,9)', ylabel='MACD')\n",
    "ax2.legend(loc = 'upper right')\n",
    "ax2.grid(False)\n",
    "\n",
    "plt.show()"
   ]
  },
  {
   "cell_type": "code",
   "execution_count": null,
   "metadata": {},
   "outputs": [],
   "source": []
  }
 ],
 "metadata": {
  "kernelspec": {
   "display_name": "Python 3",
   "language": "python",
   "name": "python3"
  },
  "language_info": {
   "codemirror_mode": {
    "name": "ipython",
    "version": 3
   },
   "file_extension": ".py",
   "mimetype": "text/x-python",
   "name": "python",
   "nbconvert_exporter": "python",
   "pygments_lexer": "ipython3",
   "version": "3.6.6"
  }
 },
 "nbformat": 4,
 "nbformat_minor": 2
}
